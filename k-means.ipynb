{
 "cells": [
  {
   "cell_type": "markdown",
   "metadata": {},
   "source": [
    "## K-MEANS (ALGORITMO DE AGRUPACION) "
   ]
  },
  {
   "cell_type": "markdown",
   "metadata": {},
   "source": [
    "##PRACTICA DE LABORATORIO\n",
    "# Univ. Jhonny Pascual Colque\n",
    "# Univ. Rayni Gean Marco Prada Oliva\n"
   ]
  },
  {
   "cell_type": "code",
   "execution_count": 10,
   "metadata": {},
   "outputs": [],
   "source": [
    "import numpy as np\n",
    "import matplotlib.pyplot as plt\n",
    "from sklearn.cluster import KMeans \n",
    "from sklearn import metrics\n",
    "peso=[1,2,4,5]\n",
    "ph=[1,1,3,4]\n"
   ]
  },
  {
   "cell_type": "code",
   "execution_count": 11,
   "metadata": {},
   "outputs": [],
   "source": [
    "x=np.array(peso)\n",
    "y=np.array(ph)"
   ]
  },
  {
   "cell_type": "code",
   "execution_count": 12,
   "metadata": {},
   "outputs": [],
   "source": [
    "X=np.array(list(zip(peso,ph))).reshape(len(peso),2)"
   ]
  },
  {
   "cell_type": "code",
   "execution_count": 13,
   "metadata": {},
   "outputs": [
    {
     "data": {
      "image/png": "[encoded data removed]",
      "text/plain": [
       "<Figure size 432x288 with 1 Axes>"
      ]
     },
     "metadata": {
      "needs_background": "light"
     },
     "output_type": "display_data"
    }
   ],
   "source": [
    "plt.plot(peso,ph, 'o')\n",
    "plt.show()"
   ]
  },
  {
   "cell_type": "code",
   "execution_count": 28,
   "metadata": {},
   "outputs": [
    {
     "data": {
      "text/plain": [
       "KMeans(algorithm='auto', copy_x=True, init='k-means++', max_iter=300,\n",
       "       n_clusters=2, n_init=10, n_jobs=None, precompute_distances='auto',\n",
       "       random_state=None, tol=0.0001, verbose=0)"
      ]
     },
     "execution_count": 28,
     "metadata": {},
     "output_type": "execute_result"
    }
   ],
   "source": [
    "K=2\n",
    "modelo_k_means = KMeans(n_clusters=K)\n",
    "modelo_k_means.fit(X)"
   ]
  },
  {
   "cell_type": "code",
   "execution_count": 15,
   "metadata": {},
   "outputs": [],
   "source": [
    "centroides = modelo_k_means.cluster_centers_\n",
    "etiquetas = modelo_k_means.labels_"
   ]
  },
  {
   "cell_type": "code",
   "execution_count": 16,
   "metadata": {},
   "outputs": [
    {
     "name": "stdout",
     "output_type": "stream",
     "text": [
      "(x , y ) -> clase \n",
      "1,1 - > 0\n",
      "(x , y ) -> clase \n",
      "2,1 - > 0\n",
      "(x , y ) -> clase \n",
      "4,3 - > 1\n",
      "(x , y ) -> clase \n",
      "5,4 - > 1\n"
     ]
    }
   ],
   "source": [
    "for i,l in enumerate(modelo_k_means.labels_):\n",
    "         print(\"(x , y ) -> clase \")\n",
    "         print(\"{0},{1} - > {2}\".format(x[i],y[i],l))"
   ]
  },
  {
   "cell_type": "code",
   "execution_count": 17,
   "metadata": {},
   "outputs": [
    {
     "name": "stdout",
     "output_type": "stream",
     "text": [
      "[0 0 1 1]\n"
     ]
    }
   ],
   "source": [
    "predecir = modelo_k_means.predict(X)\n",
    "print(predecir)"
   ]
  },
  {
   "cell_type": "code",
   "execution_count": 20,
   "metadata": {},
   "outputs": [
    {
     "name": "stdout",
     "output_type": "stream",
     "text": [
      "Prediccion: ([[2, 1]],[0] )\n"
     ]
    }
   ],
   "source": [
    "prueba = [[2,1]]\n",
    "prediccion = modelo_k_means.predict(prueba)\n",
    "print(\"Prediccion: ({0},{1} )\".format(prueba,prediccion))"
   ]
  },
  {
   "cell_type": "code",
   "execution_count": 23,
   "metadata": {},
   "outputs": [
    {
     "name": "stdout",
     "output_type": "stream",
     "text": [
      "[[1.5 1. ]\n",
      " [4.5 3.5]]\n"
     ]
    }
   ],
   "source": [
    "print(modelo_k_means.cluster_centers_)\n",
    "\n",
    "centroides = modelo_k_means.cluster_centers_\n",
    "etiquetas = modelo_k_means.labels_"
   ]
  },
  {
   "cell_type": "code",
   "execution_count": 27,
   "metadata": {},
   "outputs": [
    {
     "data": {
      "image/png": "[encoded data removed]",
      "text/plain": [
       "<Figure size 432x288 with 1 Axes>"
      ]
     },
     "metadata": {
      "needs_background": "light"
     },
     "output_type": "display_data"
    }
   ],
   "source": [
    "plt.plot(X[etiquetas==0,0],X[etiquetas==0,1],'r.', label='cluster 1')\n",
    "plt.plot(X[etiquetas==1,0],X[etiquetas==1,1],'b.', label='cluster 2')\n",
    "\n",
    "\n",
    "plt.plot(centroides[:,0],centroides[:,1],'mo',markersize=12, label='centroides')\n",
    "\n",
    "plt.legend(loc='best')\n",
    "plt.show()"
   ]
  },
  {
   "cell_type": "code",
   "execution_count": 25,
   "metadata": {},
   "outputs": [
    {
     "name": "stdout",
     "output_type": "stream",
     "text": [
      "Prediccion: ([[2, 5]],[1] )\n"
     ]
    }
   ],
   "source": [
    "prueba = [[2,5]]\n",
    "prediccion = modelo_k_means.predict(prueba)\n",
    "print(\"Prediccion: ({0},{1} )\".format(prueba,prediccion))"
   ]
  },
  {
   "cell_type": "code",
   "execution_count": 26,
   "metadata": {},
   "outputs": [
    {
     "name": "stdout",
     "output_type": "stream",
     "text": [
      "Prediccion: ([[3, 5]],[1] )\n"
     ]
    }
   ],
   "source": [
    "prueba = [[3,5]]\n",
    "prediccion = modelo_k_means.predict(prueba)\n",
    "print(\"Prediccion: ({0},{1} )\".format(prueba,prediccion))"
   ]
  },
  {
   "cell_type": "code",
   "execution_count": null,
   "metadata": {},
   "outputs": [],
   "source": []
  }
 ],
 "metadata": {
  "kernelspec": {
   "display_name": "Python 3",
   "language": "python",
   "name": "python3"
  },
  "language_info": {
   "codemirror_mode": {
    "name": "ipython",
    "version": 3
   },
   "file_extension": ".py",
   "mimetype": "text/x-python",
   "name": "python",
   "nbconvert_exporter": "python",
   "pygments_lexer": "ipython3",
   "version": "3.7.3"
  }
 },
 "nbformat": 4,
 "nbformat_minor": 4
}
